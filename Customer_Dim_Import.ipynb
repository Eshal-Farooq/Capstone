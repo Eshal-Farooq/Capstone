{
 "cells": [
  {
   "cell_type": "markdown",
   "metadata": {
    "application/vnd.databricks.v1+cell": {
     "cellMetadata": {},
     "inputWidgets": {},
     "nuid": "73f42fe2-15fb-479c-aab7-64c9637dd780",
     "showTitle": false,
     "tableResultSettingsMap": {},
     "title": ""
    }
   },
   "source": [
    "Retail Sales Pipeline ----- Capstone\n",
    "\n",
    "This project simulates a retail sales pipeline using streaming JSON data and external dimensions (MongoDB, Azure SQL). The pipeline is structured using a Lakehouse architecture with Bronze, Silver, and Gold layers. Final outputs are saved to a Delta table and accessible via SQL for analysis.\n",
    "\n",
    "Data Sources\n",
    "Streaming JSON files (sales_fact) using Databricks AutoLoader\n",
    "\n",
    "MongoDB Atlas: customer_dim (NoSQL)\n",
    "\n",
    "Azure SQL Database:\n",
    "\n",
    "product_dim\n",
    "\n",
    "dim_date\n",
    "\n",
    "Bronze Layer\n",
    "Ingested raw sales data from /FileStore/streaming/sales_fact/ using cloudFiles and readStream\n",
    "\n",
    "Created a streaming temp view: bronze_sales\n",
    "\n",
    "Silver Layer\n",
    "Cleaned and transformed data using:\n",
    "\n",
    "to_date() on date strings\n",
    "\n",
    "regexp_replace() to fix Mongo-style customer_id formatting\n",
    "\n",
    "Joined bronze_sales with:\n",
    "\n",
    "product_dim (via product_id)\n",
    "\n",
    "customer_dim (via cleaned customer_id)\n",
    "\n",
    "dim_date (via date = FullDate)\n",
    "\n",
    "Final joined table: silver_sales\n",
    "\n",
    "Gold Layer\n",
    "Aggregated silver_sales to compute:\n",
    "\n",
    "Total quantity sold per product\n",
    "\n",
    "Total revenue per product\n",
    "\n",
    "Average unit price\n",
    "\n",
    "Saved final result as a Delta table: gold_product_summary\n",
    "\n",
    "Access and Output\n",
    "Queried the Gold table using %sql\n",
    "\n",
    "Verified correctness through record counts and example outputs\n",
    "\n",
    "Key Notes\n",
    "Data schema and primary/foreign key relationships were fully aligned\n",
    "\n",
    "MongoDB IDs were cleaned using Spark functions\n",
    "\n",
    "Pipeline meets Lakehouse architecture principles with reliable integration, transformation, and aggregation"
   ]
  },
  {
   "cell_type": "markdown",
   "metadata": {
    "application/vnd.databricks.v1+cell": {
     "cellMetadata": {},
     "inputWidgets": {},
     "nuid": "8f860ad5-cde1-45a7-9fa4-2e0115b08806",
     "showTitle": false,
     "tableResultSettingsMap": {},
     "title": ""
    }
   },
   "source": [
    "%  IMPORTANT  %\n",
    "%  IMPORTANT  %\n",
    "%  IMPORTANT  %\n",
    "%  IMPORTANT  %\n",
    "\n",
    "If Bronze Stream is not running when file is opened it can be restarted by re-running the AutoLoader block at Cell 9\n",
    "\n",
    "%  IMPORTANT  %\n",
    "%  IMPORTANT  %\n",
    "%  IMPORTANT  %\n",
    "%  IMPORTANT  %"
   ]
  },
  {
   "cell_type": "code",
   "execution_count": 0,
   "metadata": {
    "application/vnd.databricks.v1+cell": {
     "cellMetadata": {
      "byteLimit": 2048000,
      "rowLimit": 10000
     },
     "inputWidgets": {},
     "nuid": "0fb9b902-912e-4db8-8947-291582c828b6",
     "showTitle": false,
     "tableResultSettingsMap": {},
     "title": ""
    }
   },
   "outputs": [
    {
     "output_type": "stream",
     "name": "stdout",
     "output_type": "stream",
     "text": [
      "+--------------------+--------------------+------+--------------------+-------------------+--------------------+---------------+--------------------+----------------+\n|                 _id|            accounts|active|             address|          birthdate|               email|           name|    tier_and_details|        username|\n+--------------------+--------------------+------+--------------------+-------------------+--------------------+---------------+--------------------+----------------+\n|{5ca4bbcea2dd94ee...|[371138, 324287, ...|  true|9286 Bethany Glen...|1977-03-02 02:20:31|arroyocolton@gmai...|  Elizabeth Ray|{0df078f33aa74a2e...|         fmiller|\n|{5ca4bbcea2dd94ee...|            [116508]|  NULL|Unit 1047 Box 408...|1994-02-19 23:46:27|cooperalexis@hotm...|  Lindsay Cowan|{5d6a79083c26402b...|valenciajennifer|\n|{5ca4bbcea2dd94ee...|[462501, 228290, ...|  NULL|55711 Janet Plaza...|1988-06-20 22:15:34|timothy78@hotmail...|Katherine David|                  {}|      hillrachel|\n|{5ca4bbcea2dd94ee...|    [170945, 951849]|  NULL|Unit 2676 Box 935...|1974-11-26 14:30:20| tcrawford@gmail.com|Leslie Martinez|{a15baf69a7594232...|    serranobrian|\n|{5ca4bbcea2dd94ee...|[721914, 817222, ...|  NULL|2765 Powers Meado...|1977-05-06 21:57:35|  dustin37@yahoo.com|  Brad Cardenas|                  {}|   charleshudson|\n+--------------------+--------------------+------+--------------------+-------------------+--------------------+---------------+--------------------+----------------+\nonly showing top 5 rows\n"
     ]
    }
   ],
   "source": [
    "\n",
    "df_customers = spark.read.format(\"com.mongodb.spark.sql.DefaultSource\") \\\n",
    "    .option(\"uri\", mongo_uri) \\\n",
    "    .option(\"collection\", \"customers\") \\\n",
    "    .load()\n",
    "\n",
    "df_customers.show(5)\n"
   ]
  },
  {
   "cell_type": "code",
   "execution_count": 0,
   "metadata": {
    "application/vnd.databricks.v1+cell": {
     "cellMetadata": {
      "byteLimit": 2048000,
      "rowLimit": 10000
     },
     "inputWidgets": {},
     "nuid": "6f7b14c4-b037-47d3-9a25-70f59ffa16b9",
     "showTitle": false,
     "tableResultSettingsMap": {},
     "title": ""
    }
   },
   "outputs": [
    {
     "output_type": "stream",
     "name": "stdout",
     "output_type": "stream",
     "text": [
      "+--------------------+---------------+--------------------+----------------+---------+\n|         customer_id|      full_name|               email|        username|     city|\n+--------------------+---------------+--------------------+----------------+---------+\n|{5ca4bbcea2dd94ee...|  Elizabeth Ray|arroyocolton@gmai...|         fmiller| CO 22939|\n|{5ca4bbcea2dd94ee...|  Lindsay Cowan|cooperalexis@hotm...|valenciajennifer|     NULL|\n|{5ca4bbcea2dd94ee...|Katherine David|timothy78@hotmail...|      hillrachel| CT 62716|\n|{5ca4bbcea2dd94ee...|Leslie Martinez| tcrawford@gmail.com|    serranobrian|     NULL|\n|{5ca4bbcea2dd94ee...|  Brad Cardenas|  dustin37@yahoo.com|   charleshudson| CT 53165|\n+--------------------+---------------+--------------------+----------------+---------+\nonly showing top 5 rows\n"
     ]
    }
   ],
   "source": [
    "customer_dim = df_customers.select(\n",
    "    col(\"_id\").cast(\"string\").alias(\"customer_id\"),\n",
    "    col(\"name\").alias(\"full_name\"),\n",
    "    col(\"email\"),\n",
    "    col(\"username\"),\n",
    "    when(size(split(col(\"address\"), \",\")) > 1, split(col(\"address\"), \",\")[1]).alias(\"city\")\n",
    ")\n",
    "\n",
    "customer_dim.show(5)\n"
   ]
  },
  {
   "cell_type": "code",
   "execution_count": 0,
   "metadata": {
    "application/vnd.databricks.v1+cell": {
     "cellMetadata": {
      "byteLimit": 2048000,
      "rowLimit": 10000
     },
     "inputWidgets": {},
     "nuid": "f69d4892-5298-440a-a96f-ea0b62c4e50e",
     "showTitle": false,
     "tableResultSettingsMap": {},
     "title": ""
    }
   },
   "outputs": [],
   "source": [
    "customer_dim.write \\\n",
    "    .format(\"jdbc\") \\\n",
    "    .mode(\"overwrite\") \\\n",
    "    .option(\"url\", \"jdbc:sqlserver://capstone-sql-server.database.windows.net:1433;databaseName=retail_capstone_project\") \\\n",
    "    .option(\"dbtable\", \"customer_dim\") \\\n",
    "    .option(\"user\", \"CloudSA1b6248af\") \\\n",
    "    .option(\"password\", \"Passw0rd123\") \\\n",
    "    .option(\"driver\", \"com.microsoft.sqlserver.jdbc.SQLServerDriver\") \\\n",
    "    .save()\n"
   ]
  },
  {
   "cell_type": "code",
   "execution_count": 0,
   "metadata": {
    "application/vnd.databricks.v1+cell": {
     "cellMetadata": {
      "byteLimit": 2048000,
      "rowLimit": 10000
     },
     "inputWidgets": {},
     "nuid": "713c1284-e532-477d-bfc1-a1d49f0b6e75",
     "showTitle": false,
     "tableResultSettingsMap": {},
     "title": ""
    }
   },
   "outputs": [
    {
     "output_type": "stream",
     "name": "stdout",
     "output_type": "stream",
     "text": [
      "+----------+------------+---------------+------------+----------+\n|product_id|product_name|       category|       brand|unit_price|\n+----------+------------+---------------+------------+----------+\n|      P001|   Product 1|    Electronics|AmazonBasics|     19.52|\n|      P002|   Product 2|Office Supplies|    Logitech|     98.14|\n|      P003|   Product 3| Home & Kitchen|     Philips|     80.14|\n|      P004|   Product 4| Home & Kitchen|     Samsung|     46.49|\n|      P005|   Product 5|    Electronics|AmazonBasics|     60.25|\n+----------+------------+---------------+------------+----------+\nonly showing top 5 rows\n"
     ]
    }
   ],
   "source": [
    "product_dim = df_products.select(\n",
    "    col(\"product_id\"),\n",
    "    col(\"product_name\"),\n",
    "    col(\"category\"),\n",
    "    col(\"brand\"),\n",
    "    col(\"unit_price\").cast(\"float\")\n",
    ")\n",
    "\n",
    "product_dim.show(5)\n"
   ]
  },
  {
   "cell_type": "code",
   "execution_count": 0,
   "metadata": {
    "application/vnd.databricks.v1+cell": {
     "cellMetadata": {
      "byteLimit": 2048000,
      "rowLimit": 10000
     },
     "inputWidgets": {},
     "nuid": "e388e7bf-943b-4ab6-927f-1696d539ca3d",
     "showTitle": false,
     "tableResultSettingsMap": {},
     "title": ""
    }
   },
   "outputs": [],
   "source": [
    "product_dim.write \\\n",
    "    .format(\"jdbc\") \\\n",
    "    .mode(\"overwrite\") \\\n",
    "    .option(\"url\", \"jdbc:sqlserver://capstone-sql-server.database.windows.net:1433;databaseName=retail_capstone_project\") \\\n",
    "    .option(\"dbtable\", \"product_dim\") \\\n",
    "    .option(\"user\", \"CloudSA1b6248af\") \\\n",
    "    .option(\"password\", \"Passw0rd123\") \\\n",
    "    .option(\"driver\", \"com.microsoft.sqlserver.jdbc.SQLServerDriver\") \\\n",
    "    .save()\n"
   ]
  },
  {
   "cell_type": "code",
   "execution_count": 0,
   "metadata": {
    "application/vnd.databricks.v1+cell": {
     "cellMetadata": {
      "byteLimit": 2048000,
      "rowLimit": 10000
     },
     "inputWidgets": {},
     "nuid": "4155ef44-6b31-485f-a17b-34d668475c0e",
     "showTitle": false,
     "tableResultSettingsMap": {},
     "title": ""
    }
   },
   "outputs": [],
   "source": [
    "from pyspark.sql.types import StructType, StringType, IntegerType, FloatType\n",
    "\n",
    "# Define the schema\n",
    "schema = StructType() \\\n",
    "    .add(\"sale_id\", StringType()) \\\n",
    "    .add(\"product_id\", StringType()) \\\n",
    "    .add(\"customer_id\", StringType()) \\\n",
    "    .add(\"date\", StringType()) \\\n",
    "    .add(\"quantity\", IntegerType()) \\\n",
    "    .add(\"unit_price\", FloatType()) \\\n",
    "    .add(\"total_amount\", FloatType())\n",
    "\n",
    "# Path to uploaded JSON files\n",
    "input_path = \"/FileStore/streaming/sales_fact/\"\n",
    "\n",
    "# Bronze stream using AutoLoader\n",
    "bronze_df = spark.readStream.format(\"cloudFiles\") \\\n",
    "    .option(\"cloudFiles.format\", \"json\") \\\n",
    "    .schema(schema) \\\n",
    "    .load(input_path)\n"
   ]
  },
  {
   "cell_type": "code",
   "execution_count": 0,
   "metadata": {
    "application/vnd.databricks.v1+cell": {
     "cellMetadata": {
      "byteLimit": 2048000,
      "rowLimit": 10000
     },
     "inputWidgets": {},
     "nuid": "64702233-92ac-4573-9622-0531286851d6",
     "showTitle": false,
     "tableResultSettingsMap": {},
     "title": ""
    }
   },
   "outputs": [],
   "source": [
    "# Bronze Layer: Strea Setup\n",
    "# This starts the stream and registers 'bronze_sales' for SQL access\n",
    "# Write streaming data to an in-memory temp view\n",
    "query = bronze_df.writeStream \\\n",
    "    .format(\"memory\") \\\n",
    "    .queryName(\"bronze_sales\") \\\n",
    "    .outputMode(\"append\") \\\n",
    "    .start()\n"
   ]
  },
  {
   "cell_type": "markdown",
   "metadata": {
    "application/vnd.databricks.v1+cell": {
     "cellMetadata": {},
     "inputWidgets": {},
     "nuid": "70807ee4-6d8f-4260-a820-77ede0d08f72",
     "showTitle": false,
     "tableResultSettingsMap": {},
     "title": ""
    }
   },
   "source": [
    "Load Dimension Tables from Azure SQL"
   ]
  },
  {
   "cell_type": "code",
   "execution_count": 0,
   "metadata": {
    "application/vnd.databricks.v1+cell": {
     "cellMetadata": {
      "byteLimit": 2048000,
      "rowLimit": 10000
     },
     "inputWidgets": {},
     "nuid": "ebf45bee-7e95-46c6-8081-396eab85fb11",
     "showTitle": false,
     "tableResultSettingsMap": {},
     "title": ""
    }
   },
   "outputs": [],
   "source": [
    "jdbc_options = {\n",
    "    \"url\": \"jdbc:sqlserver://capstone-sql-server.database.windows.net:1433;databaseName=retail_capstone_project\",\n",
    "    \"user\": \"CloudSA1b6248af\",\n",
    "    \"password\": \"Passw0rd123\",\n",
    "    \"driver\": \"com.microsoft.sqlserver.jdbc.SQLServerDriver\"\n",
    "}"
   ]
  },
  {
   "cell_type": "code",
   "execution_count": 0,
   "metadata": {
    "application/vnd.databricks.v1+cell": {
     "cellMetadata": {
      "byteLimit": 2048000,
      "rowLimit": 10000
     },
     "inputWidgets": {},
     "nuid": "51788cb2-4011-4acc-b341-b645ca024161",
     "showTitle": false,
     "tableResultSettingsMap": {},
     "title": ""
    }
   },
   "outputs": [
    {
     "output_type": "stream",
     "name": "stdout",
     "output_type": "stream",
     "text": [
      "+----------+------------+---------------+------------+----------+\n|product_id|product_name|       category|       brand|unit_price|\n+----------+------------+---------------+------------+----------+\n|      P001|   Product 1|    Electronics|AmazonBasics|     19.52|\n|      P002|   Product 2|Office Supplies|    Logitech|     98.14|\n|      P001|   Product 1|    Electronics|AmazonBasics|     19.52|\n|      P002|   Product 2|Office Supplies|    Logitech|     98.14|\n|      P003|   Product 3| Home & Kitchen|     Philips|     80.14|\n+----------+------------+---------------+------------+----------+\nonly showing top 5 rows\n"
     ]
    }
   ],
   "source": [
    "product_dim_sql = spark.read \\\n",
    "    .format(\"jdbc\") \\\n",
    "    .options(**jdbc_options) \\\n",
    "    .option(\"dbtable\", \"product_dim\") \\\n",
    "    .load()\n",
    "\n",
    "product_dim_sql.show(5)\n"
   ]
  },
  {
   "cell_type": "code",
   "execution_count": 0,
   "metadata": {
    "application/vnd.databricks.v1+cell": {
     "cellMetadata": {
      "byteLimit": 2048000,
      "rowLimit": 10000
     },
     "inputWidgets": {},
     "nuid": "14736818-24be-4a63-a21a-39fa84abae05",
     "showTitle": false,
     "tableResultSettingsMap": {},
     "title": ""
    }
   },
   "outputs": [
    {
     "output_type": "stream",
     "name": "stdout",
     "output_type": "stream",
     "text": [
      "+--------------------+---------------+--------------------+----------------+---------+\n|         customer_id|      full_name|               email|        username|     city|\n+--------------------+---------------+--------------------+----------------+---------+\n|{5ca4bbcea2dd94ee...|  Elizabeth Ray|arroyocolton@gmai...|         fmiller| CO 22939|\n|{5ca4bbcea2dd94ee...|  Lindsay Cowan|cooperalexis@hotm...|valenciajennifer|     NULL|\n|{5ca4bbcea2dd94ee...|Katherine David|timothy78@hotmail...|      hillrachel| CT 62716|\n|{5ca4bbcea2dd94ee...|Leslie Martinez| tcrawford@gmail.com|    serranobrian|     NULL|\n|{5ca4bbcea2dd94ee...|  Brad Cardenas|  dustin37@yahoo.com|   charleshudson| CT 53165|\n+--------------------+---------------+--------------------+----------------+---------+\nonly showing top 5 rows\n"
     ]
    }
   ],
   "source": [
    "customer_dim_sql = spark.read \\\n",
    "    .format(\"jdbc\") \\\n",
    "    .options(**jdbc_options) \\\n",
    "    .option(\"dbtable\", \"customer_dim\") \\\n",
    "    .load()\n",
    "\n",
    "customer_dim_sql.show(5)\n"
   ]
  },
  {
   "cell_type": "code",
   "execution_count": 0,
   "metadata": {
    "application/vnd.databricks.v1+cell": {
     "cellMetadata": {
      "byteLimit": 2048000,
      "rowLimit": 10000
     },
     "inputWidgets": {},
     "nuid": "892f3625-1e0c-4d74-9ea6-22e6776707ae",
     "showTitle": false,
     "tableResultSettingsMap": {},
     "title": ""
    }
   },
   "outputs": [
    {
     "output_type": "stream",
     "name": "stdout",
     "output_type": "stream",
     "text": [
      "+--------+----------+---+-----+---------+-------+----+-----------+\n| DateKey|  FullDate|Day|Month|MonthName|Quarter|Year|WeekdayName|\n+--------+----------+---+-----+---------+-------+----+-----------+\n|20230101|2023-01-01|  1|    1|  January|      1|2023|     Sunday|\n|20230102|2023-01-02|  2|    1|  January|      1|2023|     Monday|\n|20230103|2023-01-03|  3|    1|  January|      1|2023|    Tuesday|\n|20230104|2023-01-04|  4|    1|  January|      1|2023|  Wednesday|\n|20230105|2023-01-05|  5|    1|  January|      1|2023|   Thursday|\n+--------+----------+---+-----+---------+-------+----+-----------+\nonly showing top 5 rows\n"
     ]
    }
   ],
   "source": [
    "dim_date_sql = spark.read \\\n",
    "    .format(\"jdbc\") \\\n",
    "    .options(**jdbc_options) \\\n",
    "    .option(\"dbtable\", \"DimDate\") \\\n",
    "    .load()\n",
    "\n",
    "dim_date_sql.show(5)\n"
   ]
  },
  {
   "cell_type": "markdown",
   "metadata": {
    "application/vnd.databricks.v1+cell": {
     "cellMetadata": {},
     "inputWidgets": {},
     "nuid": "eb26e5e8-a7dc-4a58-9eba-32de4233f6eb",
     "showTitle": false,
     "tableResultSettingsMap": {},
     "title": ""
    }
   },
   "source": [
    "Prepare Date and Customer Keys"
   ]
  },
  {
   "cell_type": "code",
   "execution_count": 0,
   "metadata": {
    "application/vnd.databricks.v1+cell": {
     "cellMetadata": {
      "byteLimit": 2048000,
      "rowLimit": 10000
     },
     "inputWidgets": {},
     "nuid": "d84b4720-3286-496f-9644-cb8ca9dee85c",
     "showTitle": false,
     "tableResultSettingsMap": {},
     "title": ""
    }
   },
   "outputs": [],
   "source": [
    "from pyspark.sql.functions import to_date\n",
    "\n",
    "# Add typed date for joining\n",
    "bronze_typed = spark.sql(\"SELECT * FROM bronze_sales\") \\\n",
    "    .withColumn(\"date\", to_date(\"date\", \"yyyy-MM-dd\"))\n"
   ]
  },
  {
   "cell_type": "code",
   "execution_count": 0,
   "metadata": {
    "application/vnd.databricks.v1+cell": {
     "cellMetadata": {
      "byteLimit": 2048000,
      "rowLimit": 10000
     },
     "inputWidgets": {},
     "nuid": "33828512-317d-4c68-81c6-eb4cb6e0dc02",
     "showTitle": false,
     "tableResultSettingsMap": {},
     "title": ""
    }
   },
   "outputs": [],
   "source": [
    "from pyspark.sql.functions import regexp_replace\n",
    "\n",
    "# Clean customer_id field by removing curly braces\n",
    "customer_dim_clean = customer_dim_sql.withColumn(\n",
    "    \"customer_id\", regexp_replace(\"customer_id\", \"[{}]\", \"\")\n",
    ")\n"
   ]
  },
  {
   "cell_type": "code",
   "execution_count": 0,
   "metadata": {
    "application/vnd.databricks.v1+cell": {
     "cellMetadata": {
      "byteLimit": 2048000,
      "rowLimit": 10000
     },
     "inputWidgets": {},
     "nuid": "de99c4ab-230e-4810-b91f-89cb497ad330",
     "showTitle": false,
     "tableResultSettingsMap": {},
     "title": ""
    }
   },
   "outputs": [],
   "source": [
    "dim_date_prepped = dim_date_sql.withColumn(\"FullDate\", to_date(\"FullDate\"))\n"
   ]
  },
  {
   "cell_type": "markdown",
   "metadata": {
    "application/vnd.databricks.v1+cell": {
     "cellMetadata": {},
     "inputWidgets": {},
     "nuid": "5bc397c9-a3a6-4d07-8bdd-af613615043c",
     "showTitle": false,
     "tableResultSettingsMap": {},
     "title": ""
    }
   },
   "source": [
    "Silver Join"
   ]
  },
  {
   "cell_type": "code",
   "execution_count": 0,
   "metadata": {
    "application/vnd.databricks.v1+cell": {
     "cellMetadata": {
      "byteLimit": 2048000,
      "rowLimit": 10000
     },
     "inputWidgets": {},
     "nuid": "ab9be04b-d8fc-4a2b-a38b-1e4bec50cbdd",
     "showTitle": false,
     "tableResultSettingsMap": {},
     "title": ""
    }
   },
   "outputs": [],
   "source": [
    "silver_sales = bronze_typed \\\n",
    "    .join(product_dim_sql, \"product_id\") \\\n",
    "    .join(customer_dim_clean, \"customer_id\") \\\n",
    "    .join(dim_date_prepped, bronze_typed[\"date\"] == dim_date_prepped[\"FullDate\"]) \\\n",
    "    .select(\n",
    "        \"sale_id\",\n",
    "        \"product_id\",\n",
    "        \"customer_id\",\n",
    "        \"FullDate\",\n",
    "        bronze_typed[\"quantity\"].alias(\"quantity\"),\n",
    "        bronze_typed[\"unit_price\"].alias(\"unit_price\"),\n",
    "        bronze_typed[\"total_amount\"].alias(\"total_amount\")\n",
    "    )\n",
    "\n"
   ]
  },
  {
   "cell_type": "markdown",
   "metadata": {
    "application/vnd.databricks.v1+cell": {
     "cellMetadata": {},
     "inputWidgets": {},
     "nuid": "f0503e99-7260-4549-9f04-8806bb8084db",
     "showTitle": false,
     "tableResultSettingsMap": {},
     "title": ""
    }
   },
   "source": [
    "Gold Summary"
   ]
  },
  {
   "cell_type": "code",
   "execution_count": 0,
   "metadata": {
    "application/vnd.databricks.v1+cell": {
     "cellMetadata": {
      "byteLimit": 2048000,
      "rowLimit": 10000
     },
     "inputWidgets": {},
     "nuid": "68966149-b12d-49f2-8021-9d30808cfd1c",
     "showTitle": false,
     "tableResultSettingsMap": {},
     "title": ""
    }
   },
   "outputs": [
    {
     "output_type": "stream",
     "name": "stdout",
     "output_type": "stream",
     "text": [
      "+----------+-------------------+------------------+------------------+\n|product_id|total_quantity_sold|     total_revenue|    avg_unit_price|\n+----------+-------------------+------------------+------------------+\n|      P012|                 10| 670.4000244140625| 67.04000091552734|\n|      P016|                 24|             839.5| 37.17249941825867|\n|      P007|                 14| 179.5999984741211|14.755000114440918|\n|      P003|                 14| 878.6800231933594| 62.21500205993652|\n|      P024|                 10| 780.5399932861328| 72.89000193277995|\n|      P025|                  8| 591.8400268554688|  73.9800033569336|\n|      P010|                 16|1256.0000305175781| 70.92666625976562|\n|      P006|                 24|1642.3399963378906| 63.15749931335449|\n|      P011|                 16| 686.4799957275391| 49.29999987284342|\n|      P020|                 10| 608.2599945068359| 68.68999989827473|\n+----------+-------------------+------------------+------------------+\nonly showing top 10 rows\n"
     ]
    }
   ],
   "source": [
    "from pyspark.sql.functions import sum, avg\n",
    "\n",
    "gold_product_summary = silver_sales.groupBy(\"product_id\").agg(\n",
    "    sum(\"quantity\").alias(\"total_quantity_sold\"),\n",
    "    sum(\"total_amount\").alias(\"total_revenue\"),\n",
    "    avg(silver_sales[\"unit_price\"]).alias(\"avg_unit_price\")\n",
    ")\n",
    "\n",
    "gold_product_summary.show(10)\n",
    "\n",
    "\n"
   ]
  },
  {
   "cell_type": "markdown",
   "metadata": {
    "application/vnd.databricks.v1+cell": {
     "cellMetadata": {},
     "inputWidgets": {},
     "nuid": "e33aeba5-4f21-4e18-94bd-5e2024a046b6",
     "showTitle": false,
     "tableResultSettingsMap": {},
     "title": ""
    }
   },
   "source": [
    "Save Gold Layer as Delta Table"
   ]
  },
  {
   "cell_type": "code",
   "execution_count": 0,
   "metadata": {
    "application/vnd.databricks.v1+cell": {
     "cellMetadata": {
      "byteLimit": 2048000,
      "rowLimit": 10000
     },
     "inputWidgets": {},
     "nuid": "09077098-f59c-43a7-a356-550220f521b9",
     "showTitle": false,
     "tableResultSettingsMap": {},
     "title": ""
    }
   },
   "outputs": [],
   "source": [
    "# Overwrite any previous gold table\n",
    "gold_product_summary.write.format(\"delta\").mode(\"overwrite\").saveAsTable(\"gold_product_summary\")\n"
   ]
  },
  {
   "cell_type": "code",
   "execution_count": 0,
   "metadata": {
    "application/vnd.databricks.v1+cell": {
     "cellMetadata": {
      "byteLimit": 2048000,
      "implicitDf": true,
      "rowLimit": 10000
     },
     "inputWidgets": {},
     "nuid": "7281426f-8484-4318-b816-7f8fd8ada21d",
     "showTitle": false,
     "tableResultSettingsMap": {},
     "title": ""
    }
   },
   "outputs": [
    {
     "output_type": "display_data",
     "data": {
      "text/html": [
       "<style scoped>\n",
       "  .table-result-container {\n",
       "    max-height: 300px;\n",
       "    overflow: auto;\n",
       "  }\n",
       "  table, th, td {\n",
       "    border: 1px solid black;\n",
       "    border-collapse: collapse;\n",
       "  }\n",
       "  th, td {\n",
       "    padding: 5px;\n",
       "  }\n",
       "  th {\n",
       "    text-align: left;\n",
       "  }\n",
       "</style><div class='table-result-container'><table class='table-result'><thead style='background-color: white'><tr><th>product_id</th><th>total_quantity_sold</th><th>total_revenue</th><th>avg_unit_price</th></tr></thead><tbody><tr><td>P012</td><td>10</td><td>670.4000244140625</td><td>67.04000091552734</td></tr><tr><td>P016</td><td>24</td><td>839.5</td><td>37.17249941825867</td></tr><tr><td>P007</td><td>14</td><td>179.5999984741211</td><td>14.755000114440918</td></tr><tr><td>P003</td><td>14</td><td>878.6800231933594</td><td>62.21500205993652</td></tr><tr><td>P024</td><td>10</td><td>780.5399932861328</td><td>72.89000193277995</td></tr><tr><td>P025</td><td>8</td><td>591.8400268554688</td><td>73.9800033569336</td></tr><tr><td>P010</td><td>16</td><td>1256.0000305175781</td><td>70.92666625976562</td></tr><tr><td>P006</td><td>24</td><td>1642.3399963378906</td><td>63.15749931335449</td></tr><tr><td>P011</td><td>16</td><td>686.4799957275391</td><td>49.29999987284342</td></tr><tr><td>P020</td><td>10</td><td>608.2599945068359</td><td>68.68999989827473</td></tr></tbody></table></div>"
      ]
     },
     "metadata": {
      "application/vnd.databricks.v1+output": {
       "addedWidgets": {},
       "aggData": [],
       "aggError": "",
       "aggOverflow": false,
       "aggSchema": [],
       "aggSeriesLimitReached": false,
       "aggType": "",
       "arguments": {},
       "columnCustomDisplayInfos": {},
       "data": [
        [
         "P012",
         10,
         670.4000244140625,
         67.04000091552734
        ],
        [
         "P016",
         24,
         839.5,
         37.17249941825867
        ],
        [
         "P007",
         14,
         179.5999984741211,
         14.755000114440918
        ],
        [
         "P003",
         14,
         878.6800231933594,
         62.21500205993652
        ],
        [
         "P024",
         10,
         780.5399932861328,
         72.89000193277995
        ],
        [
         "P025",
         8,
         591.8400268554688,
         73.9800033569336
        ],
        [
         "P010",
         16,
         1256.0000305175781,
         70.92666625976562
        ],
        [
         "P006",
         24,
         1642.3399963378906,
         63.15749931335449
        ],
        [
         "P011",
         16,
         686.4799957275391,
         49.29999987284342
        ],
        [
         "P020",
         10,
         608.2599945068359,
         68.68999989827473
        ]
       ],
       "datasetInfos": [],
       "dbfsResultPath": null,
       "isJsonSchema": true,
       "metadata": {
        "createTempViewForImplicitDf": true,
        "dataframeName": "_sqldf",
        "executionCount": 127
       },
       "overflow": false,
       "plotOptions": {
        "customPlotOptions": {},
        "displayType": "table",
        "pivotAggregation": null,
        "pivotColumns": null,
        "xColumns": null,
        "yColumns": null
       },
       "removedWidgets": [],
       "schema": [
        {
         "metadata": "{}",
         "name": "product_id",
         "type": "\"string\""
        },
        {
         "metadata": "{}",
         "name": "total_quantity_sold",
         "type": "\"long\""
        },
        {
         "metadata": "{}",
         "name": "total_revenue",
         "type": "\"double\""
        },
        {
         "metadata": "{}",
         "name": "avg_unit_price",
         "type": "\"double\""
        }
       ],
       "type": "table"
      }
     },
     "output_type": "display_data"
    }
   ],
   "source": [
    "%sql\n",
    "SELECT * FROM gold_product_summary LIMIT 10"
   ]
  }
 ],
 "metadata": {
  "application/vnd.databricks.v1+notebook": {
   "computePreferences": null,
   "dashboards": [],
   "environmentMetadata": {
    "base_environment": "",
    "environment_version": "2"
   },
   "inputWidgetPreferences": null,
   "language": "python",
   "notebookMetadata": {
    "mostRecentlyExecutedCommandWithImplicitDF": {
     "commandId": 7565185854963527,
     "dataframes": [
      "_sqldf"
     ]
    },
    "pythonIndentUnit": 4
   },
   "notebookName": "Customer_Dim_Import",
   "widgets": {}
  },
  "language_info": {
   "name": "python"
  }
 },
 "nbformat": 4,
 "nbformat_minor": 0
}